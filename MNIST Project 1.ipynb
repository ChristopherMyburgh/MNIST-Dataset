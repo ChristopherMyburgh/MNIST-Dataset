{
 "cells": [
  {
   "cell_type": "markdown",
   "id": "325f3790",
   "metadata": {},
   "source": [
    "# Machine Learning with MNIST Data"
   ]
  },
  {
   "cell_type": "code",
   "execution_count": 1,
   "id": "0970f1e0",
   "metadata": {},
   "outputs": [],
   "source": [
    "# Importing all Libraries\n",
    "\n",
    "import numpy as np\n",
    "import pandas as pd\n",
    "import seaborn as sns\n",
    "from sklearn.model_selection import train_test_split\n",
    "from sklearn.tree import DecisionTreeClassifier\n",
    "from sklearn import tree\n",
    "from sklearn.metrics import classification_report\n",
    "from sklearn.metrics import confusion_matrix, f1_score, precision_score, recall_score\n",
    "import matplotlib.pyplot as plt\n",
    "from sklearn.model_selection import train_test_split\n",
    "from sklearn.linear_model import LogisticRegression\n",
    "from sklearn import preprocessing\n",
    "from sklearn.preprocessing import MinMaxScaler\n",
    "from sklearn.preprocessing import LabelEncoder\n",
    "from sklearn.metrics import confusion_matrix\n",
    "from sklearn.metrics import f1_score, precision_score, recall_score\n",
    "from sklearn.ensemble import BaggingClassifier\n",
    "from sklearn.ensemble import RandomForestClassifier\n",
    "from sklearn.ensemble import RandomForestRegressor\n",
    "from subprocess import call"
   ]
  },
  {
   "cell_type": "markdown",
   "id": "8b9970ba",
   "metadata": {},
   "source": [
    "For this Project, we will be using the data that is available to us on this website: http://yann.lecun.com/exdb/mnist/. We store the files in a seperate working directory called MNIST dataset. We will then need to extract the files into our notebook in order to work with the data."
   ]
  },
  {
   "cell_type": "code",
   "execution_count": 2,
   "id": "4b23f777",
   "metadata": {},
   "outputs": [],
   "source": [
    "# Create a funcion that loads in data from our stored directory\n",
    "# This function will then convert the stored data into a low level Numpy array\n",
    "# Read all files that end with '-images.idx3-ubyte']\n",
    "# Reshape the data into a 3D array containing width, height and data\n",
    "\n",
    "def loadMNIST( prefix, folder ):\n",
    "    intType = np.dtype( 'int32' ).newbyteorder( '>' )\n",
    "    nMetaDataBytes = 4 * intType.itemsize\n",
    "\n",
    "    data = np.fromfile( folder + \"/\" + prefix + '-images.idx3-ubyte', dtype = 'ubyte' )\n",
    "    magicBytes, nImages, width, height = np.frombuffer( data[:nMetaDataBytes].tobytes(), intType )\n",
    "    data = data[nMetaDataBytes:].astype( dtype = 'int64' ).reshape( [ nImages, width, height ] )\n",
    "\n",
    "    labels = np.fromfile( folder + \"/\" + prefix + '-labels.idx1-ubyte',\n",
    "                          dtype = 'ubyte' )[2 * intType.itemsize:]\n",
    "\n",
    "    return data, labels\n",
    "\n",
    "trainImages, trainLabels = loadMNIST( \"train\", r\"C:/Users/chris/Dropbox/cm22020002622/3- Machine Learning/Task 8/MNIST DataSet/\" )\n",
    "testImages, testLabels = loadMNIST( \"t10k\", r\"C:/Users/chris/Dropbox/cm22020002622/3- Machine Learning/Task 8/MNIST DataSet/\" )"
   ]
  },
  {
   "cell_type": "code",
   "execution_count": 3,
   "id": "737fda2f",
   "metadata": {},
   "outputs": [
    {
     "name": "stdout",
     "output_type": "stream",
     "text": [
      "(60000, 28, 28)\n",
      "(60000,)\n",
      "(10000, 28, 28)\n",
      "(10000,)\n"
     ]
    }
   ],
   "source": [
    "# Printing the shape of our data\n",
    "\n",
    "print(trainImages.shape)\n",
    "print(trainLabels.shape)\n",
    "print(testImages.shape)\n",
    "print(testLabels.shape)"
   ]
  },
  {
   "cell_type": "code",
   "execution_count": 4,
   "id": "f8ab137b",
   "metadata": {},
   "outputs": [
    {
     "name": "stdout",
     "output_type": "stream",
     "text": [
      "Array Dimensions:  3\n",
      "Array Dimensions:  1\n",
      "Array Dimensions:  3\n",
      "Array Dimensions:  1\n"
     ]
    }
   ],
   "source": [
    "# Printing the array dimensions to better understand our arrays\n",
    "\n",
    "print('Array Dimensions: ',trainImages.ndim)\n",
    "print('Array Dimensions: ',trainLabels.ndim)\n",
    "print('Array Dimensions: ',testImages.ndim)\n",
    "print('Array Dimensions: ',testLabels.ndim)"
   ]
  },
  {
   "cell_type": "code",
   "execution_count": 5,
   "id": "82fa94b5",
   "metadata": {},
   "outputs": [
    {
     "name": "stdout",
     "output_type": "stream",
     "text": [
      "Data Type:  int64\n",
      "Data Type:  uint8\n",
      "Data Type:  int64\n",
      "Data Type:  uint8\n"
     ]
    }
   ],
   "source": [
    "# Checking the type of data we are working with\n",
    "\n",
    "print('Data Type: ',trainImages.dtype)\n",
    "print('Data Type: ',trainLabels.dtype)\n",
    "print('Data Type: ',testImages.dtype)\n",
    "print('Data Type: ',testLabels.dtype)"
   ]
  },
  {
   "cell_type": "markdown",
   "id": "0218762e",
   "metadata": {},
   "source": [
    "Our data has successfully been loaded into our Jupyter Notebook. We see from our training data that we have 60 000 data values to work with and from our training data set, we have 10 000. Currently we find that our data has been split into 1 set consisting of a 3-Dimensional array, and the other consisting of a 1-Dimensional array. In order for us to work with the data such that we may split it into X and y variables, we need to convert our arrays into either 2-Dimensional or 1-Dimensional arrays.\n",
    "\n",
    "Another thhing to note, is that our data contains 2 types. 1 being data stored as a float and the other being data stored as a uint8 type. We can infer from our data that the uint8 type is seen as the categorical set. When employing Machine Learning algorythms, it is best to encode the data as type int or float. This helps with accuracy of predictions for our models. In order to convert our categorical data into numeric, continuous data, we need to encode the values. "
   ]
  },
  {
   "cell_type": "code",
   "execution_count": 6,
   "id": "b36fb853",
   "metadata": {},
   "outputs": [
    {
     "name": "stdout",
     "output_type": "stream",
     "text": [
      "Categorical Data Type:  int64\n",
      "Categorical Data Type:  int64\n"
     ]
    }
   ],
   "source": [
    "# using the Label Encoder library from sklearn to encode our categorical data\n",
    "\n",
    "le = LabelEncoder()\n",
    "trainLabels = le.fit_transform(trainLabels)\n",
    "\n",
    "le = LabelEncoder()\n",
    "testLabels = le.fit_transform(testLabels)\n",
    "\n",
    "print('Categorical Data Type: ',trainLabels.dtype)\n",
    "print('Categorical Data Type: ',testLabels.dtype)"
   ]
  },
  {
   "cell_type": "markdown",
   "id": "cac801b9",
   "metadata": {},
   "source": [
    "Data has successfully been converted to numeric types. \n",
    "\n",
    "Our dataset contained 4 files. 2 training and 2 testing. Both training and testing sets contain labels and Images. We can assume from this then that Images contains the data values while Labels contains the data feature names. Therefore Images equates to our X variable and Labels equate to our y variable. \n",
    "\n",
    "When performing Machine Learning on datasets, we split the data into training and testing. We already have the split as seen in our 4 files, therefore, we can ignore the test data for the time being. We will be working with the training dataset to produce our Machine Learning algorythms and once all is done, only then will we be needing to call our test data to apply our model."
   ]
  },
  {
   "cell_type": "code",
   "execution_count": 7,
   "id": "506cfd06",
   "metadata": {},
   "outputs": [],
   "source": [
    "# Ignoring the test dataset and allocating X and y variables to the training dataset\n",
    "\n",
    "X = trainImages\n",
    "y = trainLabels"
   ]
  },
  {
   "cell_type": "code",
   "execution_count": 8,
   "id": "b56a6cd2",
   "metadata": {},
   "outputs": [
    {
     "data": {
      "text/plain": [
       "3"
      ]
     },
     "execution_count": 8,
     "metadata": {},
     "output_type": "execute_result"
    }
   ],
   "source": [
    "# Once again checking the array dimensions of our X variable\n",
    "\n",
    "X.ndim"
   ]
  },
  {
   "cell_type": "markdown",
   "id": "53aa0c40",
   "metadata": {},
   "source": [
    "In order to work with the train_test_split function, both our datasets need to be in arrays of 2-D or less. Our X variable contains a 3-D array. We know the array shape is equal to (60 000, 28, 28). What this means is that we have 60 000 values (images) with height and width of 28. In order for us to convert this into a 2-D array, we simply reshape our array into X = number of images, (width * height). This should give us a 2-D array equalling (60 000, 784)."
   ]
  },
  {
   "cell_type": "code",
   "execution_count": 9,
   "id": "886f56a6",
   "metadata": {},
   "outputs": [
    {
     "name": "stdout",
     "output_type": "stream",
     "text": [
      "(60000, 784)\n"
     ]
    }
   ],
   "source": [
    "# Converting 3-D array into a 2-D array\n",
    "\n",
    "X = X.reshape(X.shape[0],(X.shape[1]*X.shape[2]))\n",
    "print(X.shape)"
   ]
  },
  {
   "cell_type": "markdown",
   "id": "46fa3a47",
   "metadata": {},
   "source": [
    "### Preview some images contained"
   ]
  },
  {
   "cell_type": "code",
   "execution_count": 10,
   "id": "2a302d2d",
   "metadata": {},
   "outputs": [
    {
     "data": {
      "image/png": "[encoded data removed]",
      "text/plain": [
       "<Figure size 1440x288 with 5 Axes>"
      ]
     },
     "metadata": {
      "needs_background": "light"
     },
     "output_type": "display_data"
    }
   ],
   "source": [
    "plt.figure(figsize=(20,4))\n",
    "for index, (image, label) in enumerate(zip(trainImages[0:5], trainLabels[0:5])):\n",
    "    plt.subplot(1, 5, index + 1)\n",
    "    plt.imshow(np.reshape(image, (28,28)), cmap=plt.cm.gray)\n",
    "    plt.title('Training: %i\\n' % label, fontsize = 20);"
   ]
  },
  {
   "cell_type": "markdown",
   "id": "682ebfd1",
   "metadata": {},
   "source": [
    "## Splitting Our Data for Training"
   ]
  },
  {
   "cell_type": "markdown",
   "id": "de53633d",
   "metadata": {},
   "source": [
    "We may now proceed with the first steps of machine learning. We have a training dataset containing 60 000 values and a test dataset containing 10 000. What we need to do, in order for us to achieve optimum accuracy of our desired models, is to further split our data such that we have a train, validation and testing set. Due to the large sum of values found in our training dataset, we can split that further into a training and validation set."
   ]
  },
  {
   "cell_type": "code",
   "execution_count": 11,
   "id": "dd453ec7",
   "metadata": {},
   "outputs": [],
   "source": [
    "# Splitting our training dataset into training and validation sets\n",
    "# Splitting by 80% training, 20% validation.\n",
    "\n",
    "X_train, X_validate, y_train, y_validate = train_test_split(X, y, train_size=0.8, random_state=42)"
   ]
  },
  {
   "cell_type": "code",
   "execution_count": 12,
   "id": "2a35334f",
   "metadata": {},
   "outputs": [
    {
     "name": "stdout",
     "output_type": "stream",
     "text": [
      "(48000, 784)\n",
      "(12000, 784)\n"
     ]
    }
   ],
   "source": [
    "print(X_train.shape)\n",
    "print(X_validate.shape)"
   ]
  },
  {
   "cell_type": "markdown",
   "id": "d0b2d771",
   "metadata": {},
   "source": [
    "### Preview Some Images in Training Set"
   ]
  },
  {
   "cell_type": "code",
   "execution_count": 13,
   "id": "d687eb40",
   "metadata": {},
   "outputs": [
    {
     "data": {
      "image/png": "[encoded data removed]",
      "text/plain": [
       "<Figure size 1440x288 with 5 Axes>"
      ]
     },
     "metadata": {
      "needs_background": "light"
     },
     "output_type": "display_data"
    }
   ],
   "source": [
    "plt.figure(figsize=(20,4))\n",
    "for index, (image, label) in enumerate(zip(X_train[0:5], y_train[0:5])):\n",
    "    plt.subplot(1, 5, index + 1)\n",
    "    plt.imshow(np.reshape(image, (28,28)), cmap=plt.cm.gray)\n",
    "    plt.title('Training: %i\\n' % label, fontsize = 20);"
   ]
  },
  {
   "cell_type": "markdown",
   "id": "d526e96e",
   "metadata": {},
   "source": [
    "When splitting our data, we need to take into account the distribution of our split sets. We can view how our data has been split with a simple histogram. If it seems as though our training and validation set has been split uniformly, we need not shuffle our data sets"
   ]
  },
  {
   "cell_type": "code",
   "execution_count": 14,
   "id": "8bfbe03d",
   "metadata": {},
   "outputs": [
    {
     "data": {
      "image/png": "[encoded data removed]",
      "text/plain": [
       "<Figure size 720x360 with 2 Axes>"
      ]
     },
     "metadata": {
      "needs_background": "light"
     },
     "output_type": "display_data"
    }
   ],
   "source": [
    "# Simple Histogram showing data distribution\n",
    "\n",
    "plt.figure(figsize=(10,5))\n",
    "plt.subplot(1,2,1)\n",
    "plt.hist(y_train);\n",
    "plt.title('Frequency of different classes - Training data');\n",
    "\n",
    "plt.subplot(1,2,2)\n",
    "plt.hist(y_validate);\n",
    "plt.title('Frequency of different classes - Validation data');"
   ]
  },
  {
   "cell_type": "markdown",
   "id": "509e408a",
   "metadata": {},
   "source": [
    "From the above graphs, we see that our data has an even distribution for both training and validation sets. "
   ]
  },
  {
   "cell_type": "markdown",
   "id": "28a16d20",
   "metadata": {},
   "source": [
    "## Choosing Machine Learning Models\n",
    "\n",
    "For this task, I will be utilizing the Logistic Regression Model, as well as a Random Forest Tree Model. \n",
    "\n",
    "I will be using Logistic Analysis as it is used to understand the relationship between the dependent variable and one or more independent variables. in other words, we can use the model to predict the class (or category) of individuals based on one or multiple predictor variables (x).\n",
    "\n",
    "I will be using Random Forest modelling as It can perform both regression and classification tasks. The random forest algorithm provides a higher level of accuracy in predicting outcomes over the standard decision tree algorithm."
   ]
  },
  {
   "cell_type": "markdown",
   "id": "e27d1551",
   "metadata": {},
   "source": [
    "### 1. Random Forest Analysis of the MNIST Data"
   ]
  },
  {
   "cell_type": "code",
   "execution_count": 62,
   "id": "dd28efc6",
   "metadata": {},
   "outputs": [
    {
     "data": {
      "text/plain": [
       "RandomForestClassifier(random_state=42)"
      ]
     },
     "execution_count": 62,
     "metadata": {},
     "output_type": "execute_result"
    }
   ],
   "source": [
    "rf=RandomForestClassifier(n_estimators=100, random_state=42)\n",
    "rf.fit(X_train,y_train)"
   ]
  },
  {
   "cell_type": "code",
   "execution_count": 64,
   "id": "4427637b",
   "metadata": {},
   "outputs": [
    {
     "name": "stdout",
     "output_type": "stream",
     "text": [
      "Accuracy of Development Dataset using Random Forests:\n",
      "= 0.96925\n"
     ]
    }
   ],
   "source": [
    "# Performing a Accuracy score of our Random Forest against our Validation set\n",
    "\n",
    "print(\"Accuracy of Development Dataset using Random Forests:\\n=\",rf.score(X_validate, y_validate))"
   ]
  },
  {
   "cell_type": "markdown",
   "id": "a192ad54",
   "metadata": {},
   "source": [
    "Here we see that having used the Random Forest Classifier model, we arrive at a accuracy score of 96.92% on the validation set. This is very good and gives us a indication as to how well our model can classify the Labels data based off the Image data. \n",
    "\n",
    "Although this is a very high score, we will still end up with some values being missclassified. We then need to tune our model further to try achieve a higher accuracy score,  so that we may apply the model to our test data set."
   ]
  },
  {
   "cell_type": "code",
   "execution_count": 65,
   "id": "0f1c8806",
   "metadata": {},
   "outputs": [
    {
     "name": "stdout",
     "output_type": "stream",
     "text": [
      "Out-of-Bag Score of Development Dataset using Random Forests:\n",
      "= 0.8861508085841843\n"
     ]
    }
   ],
   "source": [
    "# Calculating the Out-of-Bag score\n",
    "\n",
    "forest = RandomForestRegressor(n_estimators=100, oob_score=True, random_state=42)\n",
    "\n",
    "forest.fit(X_train, y_train)\n",
    "\n",
    "print(\"Out-of-Bag Score of Development Dataset using Random Forests:\\n=\",forest.oob_score_)"
   ]
  },
  {
   "cell_type": "markdown",
   "id": "71ca7f5f",
   "metadata": {},
   "source": [
    "The Out of Bag Score is another name for the R^2 of the model. Currently our Random Forest model is displaying a R^2 value of 0.88\n",
    "\n",
    "What we find here is that our Random Forest Model gave is that there is a High correlation between our predictor variables and the response variable."
   ]
  },
  {
   "cell_type": "markdown",
   "id": "e9e5eab6",
   "metadata": {},
   "source": [
    "### Random Forest Model Tuning"
   ]
  },
  {
   "cell_type": "markdown",
   "id": "f4ddca73",
   "metadata": {},
   "source": [
    "#### N_estimators"
   ]
  },
  {
   "cell_type": "code",
   "execution_count": 91,
   "id": "3c806c1c",
   "metadata": {},
   "outputs": [
    {
     "name": "stdout",
     "output_type": "stream",
     "text": [
      "30 trees\n",
      "Accuracy Score:  0.9635833333333333\n",
      "\n",
      "50 trees\n",
      "Accuracy Score:  0.96725\n",
      "\n",
      "100 trees\n",
      "Accuracy Score:  0.96925\n",
      "\n",
      "200 trees\n",
      "Accuracy Score:  0.9694166666666667\n",
      "\n",
      "500 trees\n",
      "Accuracy Score:  0.9696666666666667\n",
      "\n",
      "1000 trees\n",
      "Accuracy Score:  0.9696666666666667\n",
      "\n",
      "2000 trees\n",
      "Accuracy Score:  0.9703333333333334\n",
      "\n"
     ]
    },
    {
     "data": {
      "image/png": "[encoded data removed]",
      "text/plain": [
       "<Figure size 432x288 with 1 Axes>"
      ]
     },
     "metadata": {
      "needs_background": "light"
     },
     "output_type": "display_data"
    }
   ],
   "source": [
    "results = []\n",
    "n_estimator_options = [30, 50, 100, 200, 500, 1000, 2000]\n",
    "\n",
    "for trees in n_estimator_options:\n",
    "    model = RandomForestClassifier(trees, oob_score=True, n_jobs=-1, random_state=42)\n",
    "    model.fit(X_train, y_train)\n",
    "    acc = model.score(X_validate, y_validate)\n",
    "    results.append(acc)\n",
    "    print(trees, 'trees')\n",
    "    print('Accuracy Score: ', acc)\n",
    "    print('')\n",
    "\n",
    "pd.Series(results, n_estimator_options).plot()\n",
    "plt.title('Plot representing Accuracy Score Over x sample of Random Trees')\n",
    "plt.show()"
   ]
  },
  {
   "cell_type": "markdown",
   "id": "2556ec97",
   "metadata": {},
   "source": [
    "#### Minimum Samples per branch"
   ]
  },
  {
   "cell_type": "code",
   "execution_count": 98,
   "id": "bfc47315",
   "metadata": {},
   "outputs": [
    {
     "name": "stdout",
     "output_type": "stream",
     "text": [
      "2 Minimum Samples\n",
      "Accuracy Score:  0.9663333333333334\n",
      "\n",
      "4 Minimum Samples\n",
      "Accuracy Score:  0.96325\n",
      "\n",
      "6 Minimum Samples\n",
      "Accuracy Score:  0.9605833333333333\n",
      "\n",
      "8 Minimum Samples\n",
      "Accuracy Score:  0.9589166666666666\n",
      "\n",
      "10 Minimum Samples\n",
      "Accuracy Score:  0.9561666666666667\n",
      "\n",
      "12 Minimum Samples\n",
      "Accuracy Score:  0.95475\n",
      "\n"
     ]
    },
    {
     "data": {
      "image/png": "[encoded data removed]",
      "text/plain": [
       "<Figure size 432x288 with 1 Axes>"
      ]
     },
     "metadata": {
      "needs_background": "light"
     },
     "output_type": "display_data"
    }
   ],
   "source": [
    "# Create a function to show how accurate the model performs based on minimum observations needed\n",
    "\n",
    "train_results = []\n",
    "validate_results = []\n",
    "min_sample_option = [2, 4, 6, 8, 10, 12]\n",
    "\n",
    "for min_sample in min_sample_option:\n",
    "    model = RandomForestClassifier(n_estimators=100, oob_score=True, n_jobs=-1, random_state=42, max_features='auto',\n",
    "                                 min_samples_leaf=min_sample)\n",
    "    model.fit(X_train, y_train)\n",
    "    acc1 = model.score(X_train, y_train)\n",
    "    train_results.append(acc1)\n",
    "    acc = model.score(X_validate, y_validate)\n",
    "    validate_results.append(acc)\n",
    "    print(min_sample, 'Minimum Samples')\n",
    "    print('Accuracy Score: ', acc)\n",
    "    print('')\n",
    "\n",
    "from matplotlib.legend_handler import HandlerLine2D\n",
    "line1, = plt.plot(min_sample_option, train_results, 'b', label='Train')\n",
    "line2, = plt.plot(min_sample_option, validate_results, 'r', label='Validation')\n",
    "plt.legend(handler_map={line1: HandlerLine2D(numpoints=2)})\n",
    "plt.ylabel('Accuracy score')\n",
    "plt.xlabel('Minimum Samples')\n",
    "plt.show()"
   ]
  },
  {
   "cell_type": "markdown",
   "id": "ad85c899",
   "metadata": {},
   "source": [
    "#### Max Tree depth"
   ]
  },
  {
   "cell_type": "code",
   "execution_count": 107,
   "id": "02a02482",
   "metadata": {},
   "outputs": [
    {
     "name": "stdout",
     "output_type": "stream",
     "text": [
      "1.0 Max_Depth\n",
      "Accuracy Score:  0.5016666666666667\n",
      "\n",
      "5.0 Max_Depth\n",
      "Accuracy Score:  0.8564166666666667\n",
      "\n",
      "9.0 Max_Depth\n",
      "Accuracy Score:  0.937\n",
      "\n",
      "13.0 Max_Depth\n",
      "Accuracy Score:  0.9610833333333333\n",
      "\n",
      "17.0 Max_Depth\n",
      "Accuracy Score:  0.9666666666666667\n",
      "\n",
      "21.0 Max_Depth\n",
      "Accuracy Score:  0.9685\n",
      "\n",
      "25.0 Max_Depth\n",
      "Accuracy Score:  0.96625\n",
      "\n",
      "29.0 Max_Depth\n",
      "Accuracy Score:  0.9689166666666666\n",
      "\n",
      "33.0 Max_Depth\n",
      "Accuracy Score:  0.9685833333333334\n",
      "\n"
     ]
    },
    {
     "data": {
      "image/png": "[encoded data removed]",
      "text/plain": [
       "<Figure size 432x288 with 1 Axes>"
      ]
     },
     "metadata": {
      "needs_background": "light"
     },
     "output_type": "display_data"
    }
   ],
   "source": [
    "max_depths = np.linspace(1, 33, 9, endpoint=True)\n",
    "train_results = []\n",
    "valid_results = []\n",
    "\n",
    "for max_depth in max_depths:\n",
    "    rf = RandomForestClassifier(max_depth=max_depth, n_jobs=-1)\n",
    "    rf.fit(X_train, y_train)\n",
    "    acc1 = rf.score(X_train, y_train)\n",
    "    train_results.append(acc1)\n",
    "    acc = rf.score(X_validate, y_validate)\n",
    "    valid_results.append(acc)\n",
    "    print(max_depth, 'Max_Depth')\n",
    "    print('Accuracy Score: ', acc)\n",
    "    print('')\n",
    "    \n",
    "from matplotlib.legend_handler import HandlerLine2D\n",
    "line1, = plt.plot(max_depths, train_results, 'b', label='Train')\n",
    "line2, = plt.plot(max_depths, valid_results, 'r', label='Validation')\n",
    "plt.legend(handler_map={line1: HandlerLine2D(numpoints=2)})\n",
    "plt.ylabel('Accuracy score')\n",
    "plt.xlabel('Tree depth')\n",
    "plt.show()"
   ]
  },
  {
   "cell_type": "markdown",
   "id": "9f2bf152",
   "metadata": {},
   "source": [
    "What I have done here, was represent the different accuracy scores our model has on the trained data vs the validation data set. This allows us to better select a feature to prune when applying our chosen model on our test data set. The features that I have chosen were: n_estimators; min_sample; max_depth. If we look at how our model behaves with each feature, we see that n_estimators provides the greatest degree of model accuracy compared to the other features. \n",
    "\n",
    "Therefore, going forward, when I am to use my model on the test data set, I will be pruning the n_estimator values as this feature has shown to be the greatest factor attributing to a higher accuracy score than the other 2 features I tested."
   ]
  },
  {
   "cell_type": "markdown",
   "id": "ac9417de",
   "metadata": {},
   "source": [
    "### 2. Logistic Regression Analysis of MNIST DataSet"
   ]
  },
  {
   "cell_type": "code",
   "execution_count": 15,
   "id": "ef2f3d23",
   "metadata": {},
   "outputs": [
    {
     "name": "stdout",
     "output_type": "stream",
     "text": [
      "Accuracy of Development Dataset using Random Forests:\n",
      "= 0.9209166666666667\n"
     ]
    }
   ],
   "source": [
    "clf2 = LogisticRegression(fit_intercept=True, multi_class='auto', penalty='l1', solver='saga', max_iter=1000, C=50, tol=0.01)\n",
    "\n",
    "clf2.fit(X_train, y_train)\n",
    "\n",
    "print(\"Accuracy of Development Dataset using Random Forests:\\n=\",clf2.score(X_validate, y_validate))"
   ]
  },
  {
   "cell_type": "markdown",
   "id": "fb985725",
   "metadata": {},
   "source": [
    "Already we can see a massive difference in accuracy rating between the 2 models. Random Forests gave us an inital score of 96.69% whereas here we see the Logistic Regression model gives our vvalidation set a score of 92.1%\n",
    "\n",
    "We can further prune our Logistics Model to try achieve a higher accuracy rating to apply to our test data set."
   ]
  },
  {
   "cell_type": "markdown",
   "id": "b58dcfe8",
   "metadata": {},
   "source": [
    "### Logistic Regression Model Tuning"
   ]
  },
  {
   "cell_type": "markdown",
   "id": "ab8a48cf",
   "metadata": {},
   "source": [
    "Logistic regression does not really have any critical hyperparameters to tune. We can however, tune the given parameters to test model strength and parameter controls. \n",
    "\n",
    "For this particular regression model, I want to investigate tuning the C parameter. My reason for wanting to do so, is that the C parameter gives an indication as to how strong the regularization of the model is. A smaller C value will result in a stronger regularization model performance."
   ]
  },
  {
   "cell_type": "code",
   "execution_count": 18,
   "id": "a69be9a9",
   "metadata": {},
   "outputs": [
    {
     "name": "stdout",
     "output_type": "stream",
     "text": [
      "0.001 C Samples\n",
      "Accuracy Score:  0.9210833333333334\n",
      "\n",
      "0.01 C Samples\n",
      "Accuracy Score:  0.9215\n",
      "\n",
      "0.1 C Samples\n",
      "Accuracy Score:  0.9206666666666666\n",
      "\n",
      "1 C Samples\n",
      "Accuracy Score:  0.921\n",
      "\n",
      "10 C Samples\n",
      "Accuracy Score:  0.9209166666666667\n",
      "\n",
      "100 C Samples\n",
      "Accuracy Score:  0.9209166666666667\n",
      "\n",
      "1000 C Samples\n",
      "Accuracy Score:  0.9209166666666667\n",
      "\n"
     ]
    },
    {
     "data": {
      "image/png": "[encoded data removed]",
      "text/plain": [
       "<Figure size 432x288 with 1 Axes>"
      ]
     },
     "metadata": {
      "needs_background": "light"
     },
     "output_type": "display_data"
    }
   ],
   "source": [
    "train_results = []\n",
    "validate_results = []\n",
    "C_option = [0.001, 0.01, 0.1, 1, 10, 100, 1000]\n",
    "\n",
    "for C_sample in C_option:\n",
    "    model = LogisticRegression(fit_intercept=True, multi_class='auto', penalty='l1', solver='saga',\n",
    "                               max_iter=1000, C=C_sample, tol=0.01)\n",
    "    model.fit(X_train, y_train)\n",
    "    acc1 = model.score(X_train, y_train)\n",
    "    train_results.append(acc1)\n",
    "    acc = model.score(X_validate, y_validate)\n",
    "    validate_results.append(acc)\n",
    "    print(C_sample, 'C Samples')\n",
    "    print('Accuracy Score: ', acc)\n",
    "    print('')\n",
    "\n",
    "from matplotlib.legend_handler import HandlerLine2D\n",
    "line1, = plt.plot(C_option, train_results, 'b', label='Train')\n",
    "line2, = plt.plot(C_option, validate_results, 'r', label='Validation')\n",
    "plt.legend(handler_map={line1: HandlerLine2D(numpoints=2)})\n",
    "plt.ylabel('Accuracy score')\n",
    "plt.xlabel('C Samples')\n",
    "plt.show()"
   ]
  },
  {
   "cell_type": "markdown",
   "id": "164122fc",
   "metadata": {},
   "source": [
    "Alright, This did not go how I expected it. We find here that our model for accuracy lies within a C-score of 0.001 nd 1. A C score of 10 or greater all seem to produce the exact same accuracy score for the validation set. \n",
    "\n",
    "What this means for us, is that our optimum C value is 0.01. The model is telling us that we should not heavely rely on the training set but rather put more weight on the complexity penalty. This is good, as a high C value basically tells us to trust the training data. which could produce biased results on unseen data."
   ]
  },
  {
   "cell_type": "markdown",
   "id": "d7ac37f1",
   "metadata": {},
   "source": [
    "## Applying our Models on the Test Set"
   ]
  },
  {
   "cell_type": "code",
   "execution_count": 20,
   "id": "f42302e3",
   "metadata": {},
   "outputs": [],
   "source": [
    "# Assigning variables to test data set\n",
    "\n",
    "X_test = testImages\n",
    "y_test = testLabels"
   ]
  },
  {
   "cell_type": "code",
   "execution_count": 21,
   "id": "91aea65d",
   "metadata": {},
   "outputs": [
    {
     "name": "stdout",
     "output_type": "stream",
     "text": [
      "(10000, 784)\n"
     ]
    }
   ],
   "source": [
    "# Converting X variables to 2-D array\n",
    "\n",
    "X_test = X_test.reshape(X_test.shape[0],(X_test.shape[1]*X_test.shape[2]))\n",
    "print(X_test.shape)"
   ]
  },
  {
   "cell_type": "markdown",
   "id": "5a1c0041",
   "metadata": {},
   "source": [
    "### 1. Random Forest Model\n",
    "\n",
    "n_estimators used for paramater tuning"
   ]
  },
  {
   "cell_type": "code",
   "execution_count": 23,
   "id": "f7400802",
   "metadata": {},
   "outputs": [
    {
     "name": "stdout",
     "output_type": "stream",
     "text": [
      "Accuracy of Test Dataset using Random Forests:\n",
      "= 0.9704\n"
     ]
    }
   ],
   "source": [
    "# Using the random forest model on our test data set\n",
    "# Using 500 n_estimator values\n",
    "\n",
    "model = RandomForestClassifier(n_estimators=500, oob_score=True, n_jobs=-1, random_state=42)\n",
    "\n",
    "model.fit(X_train, y_train)\n",
    "\n",
    "acc = model.score(X_test,y_test)\n",
    "print(\"Accuracy of Test Dataset using Random Forests:\\n=\",acc)"
   ]
  },
  {
   "cell_type": "markdown",
   "id": "33549c1f",
   "metadata": {},
   "source": [
    "### 2. Logistic Regression Model\n",
    "\n",
    "C-Value used for parameter tuning"
   ]
  },
  {
   "cell_type": "code",
   "execution_count": 24,
   "id": "42c837bd",
   "metadata": {},
   "outputs": [
    {
     "name": "stdout",
     "output_type": "stream",
     "text": [
      "Accuracy of Development Dataset using Random Forests:\n",
      "= 0.9237\n"
     ]
    }
   ],
   "source": [
    "# Using Logistic Regression model on our test data set\n",
    "# C value set to 0.01\n",
    "\n",
    "clf = LogisticRegression(fit_intercept=True, multi_class='auto', penalty='l1', solver='saga', max_iter=1000, C=0.01, tol=0.01)\n",
    "\n",
    "clf.fit(X_train, y_train)\n",
    "\n",
    "print(\"Accuracy of Development Dataset using Random Forests:\\n=\",clf.score(X_test, y_test))"
   ]
  },
  {
   "cell_type": "markdown",
   "id": "3b67ae46",
   "metadata": {},
   "source": [
    "## Visualizing Confusion Matrix for each Model"
   ]
  },
  {
   "cell_type": "markdown",
   "id": "9cac9d74",
   "metadata": {},
   "source": [
    "### Confusion Matrix for Random Forest Model"
   ]
  },
  {
   "cell_type": "code",
   "execution_count": 27,
   "id": "68cded6d",
   "metadata": {},
   "outputs": [
    {
     "data": {
      "image/png": "[encoded data removed]",
      "text/plain": [
       "<Figure size 864x864 with 2 Axes>"
      ]
     },
     "metadata": {
      "needs_background": "light"
     },
     "output_type": "display_data"
    }
   ],
   "source": [
    "pred=model.predict(X_test)\n",
    "cm = confusion_matrix(y_test, pred)\n",
    "\n",
    "plt.figure(figsize=(12,12))\n",
    "sns.heatmap(cm, annot=True, linewidths=.5, square = True, cmap = 'Blues_r', fmt='0.4g');\n",
    "\n",
    "plt.ylabel('Actual label')\n",
    "plt.xlabel('Predicted label')\n",
    "all_sample_title = 'Accuracy Score: {0}'.format(acc)\n",
    "plt.title(all_sample_title);"
   ]
  },
  {
   "cell_type": "markdown",
   "id": "7759a601",
   "metadata": {},
   "source": [
    "### Confusion Matrix for Logistic Regression Model"
   ]
  },
  {
   "cell_type": "code",
   "execution_count": 28,
   "id": "0d3a6703",
   "metadata": {},
   "outputs": [
    {
     "data": {
      "image/png": "[encoded data removed]",
      "text/plain": [
       "<Figure size 864x864 with 2 Axes>"
      ]
     },
     "metadata": {
      "needs_background": "light"
     },
     "output_type": "display_data"
    }
   ],
   "source": [
    "pred=clf.predict(X_test)\n",
    "cm = confusion_matrix(y_test, pred)\n",
    "\n",
    "plt.figure(figsize=(12,12))\n",
    "sns.heatmap(cm, annot=True, linewidths=.5, square = True, cmap = 'Blues_r', fmt='0.4g');\n",
    "\n",
    "plt.ylabel('Actual label')\n",
    "plt.xlabel('Predicted label')\n",
    "all_sample_title = 'Accuracy Score: {0}'.format(clf.score(X_test, y_test))\n",
    "plt.title(all_sample_title);"
   ]
  },
  {
   "cell_type": "markdown",
   "id": "8fd51b72",
   "metadata": {},
   "source": [
    "Looking at our confusion matrices for both our models, it is interesting to note that they both performed relatively the same per class. Both models had a high rate of correct classification predictions for class 1 and class 2. Both models seemed to struggle a lot with classifying class 5. Looking at both matrices, class 5 has the lowest correctly predicted score."
   ]
  },
  {
   "cell_type": "markdown",
   "id": "f14e9d1f",
   "metadata": {},
   "source": [
    "## Producing a Classification Report\n",
    "\n",
    "### 1. Random Forest Classification report"
   ]
  },
  {
   "cell_type": "code",
   "execution_count": 30,
   "id": "0ebacd34",
   "metadata": {},
   "outputs": [
    {
     "name": "stdout",
     "output_type": "stream",
     "text": [
      "Classification Report\n",
      "\n",
      "              precision    recall  f1-score   support\n",
      "\n",
      "           0       0.97      0.99      0.98       980\n",
      "           1       0.99      0.99      0.99      1135\n",
      "           2       0.96      0.97      0.97      1032\n",
      "           3       0.96      0.96      0.96      1010\n",
      "           4       0.97      0.97      0.97       982\n",
      "           5       0.98      0.96      0.97       892\n",
      "           6       0.97      0.98      0.98       958\n",
      "           7       0.97      0.97      0.97      1028\n",
      "           8       0.96      0.95      0.96       974\n",
      "           9       0.96      0.95      0.95      1009\n",
      "\n",
      "    accuracy                           0.97     10000\n",
      "   macro avg       0.97      0.97      0.97     10000\n",
      "weighted avg       0.97      0.97      0.97     10000\n",
      "\n"
     ]
    }
   ],
   "source": [
    "# Using sklearn classification report\n",
    "\n",
    "pred=model.predict(X_test)\n",
    "\n",
    "print (\"Classification Report\\n\")\n",
    "print(classification_report(y_test, pred))"
   ]
  },
  {
   "cell_type": "markdown",
   "id": "1a0a649d",
   "metadata": {},
   "source": [
    "### 2. Logistic Regression Classification Report"
   ]
  },
  {
   "cell_type": "code",
   "execution_count": 31,
   "id": "5a4df2b5",
   "metadata": {},
   "outputs": [
    {
     "name": "stdout",
     "output_type": "stream",
     "text": [
      "Classification Report\n",
      "\n",
      "              precision    recall  f1-score   support\n",
      "\n",
      "           0       0.96      0.98      0.97       980\n",
      "           1       0.96      0.98      0.97      1135\n",
      "           2       0.93      0.88      0.91      1032\n",
      "           3       0.90      0.91      0.90      1010\n",
      "           4       0.93      0.94      0.93       982\n",
      "           5       0.90      0.87      0.88       892\n",
      "           6       0.94      0.95      0.94       958\n",
      "           7       0.93      0.92      0.93      1028\n",
      "           8       0.87      0.88      0.88       974\n",
      "           9       0.91      0.91      0.91      1009\n",
      "\n",
      "    accuracy                           0.92     10000\n",
      "   macro avg       0.92      0.92      0.92     10000\n",
      "weighted avg       0.92      0.92      0.92     10000\n",
      "\n"
     ]
    }
   ],
   "source": [
    "# Using sklearn classification report\n",
    "\n",
    "pred=clf.predict(X_test)\n",
    "\n",
    "print (\"Classification Report\\n\")\n",
    "print(classification_report(y_test, pred))"
   ]
  },
  {
   "cell_type": "markdown",
   "id": "cc27cd77",
   "metadata": {},
   "source": [
    "Accuracy is the fraction of predictions our model got right.\n",
    "\n",
    "Precision is the proportion of predictions of the positive class that is correct.\n",
    "\n",
    "Recall is a measure of how many instances of a class the model was able to\n",
    "recognise.\n",
    "\n",
    "The F1 score is the weighted average of Precision and Recall."
   ]
  },
  {
   "cell_type": "markdown",
   "id": "aa0c6c61",
   "metadata": {},
   "source": [
    "## Summary of Findings\n",
    "\n",
    "For this task I chose 2 different classification models to train my data on. Those being; Random Forests and Logistic Regression.\n",
    "\n",
    "I had undergone for both models just 1 parameter tuning. Each model consists of multiple parameters whereby a person may tune and process them, so my conclusion is not indicitive of a truly optimised model. \n",
    "\n",
    "What I did find is that the random forest model performed significantly better than the logistic regression model. In the end, when I applied each model to my testing data set; after having tuned their parameters; It was shown that the Random Forest Model achieved an accuracy score of 97.04% while the Logistic Regression model achieved an accuracy score of 92.37%.\n",
    "\n",
    "Looking at each models F1 scores, the Random Forest model again achieved greater results than the logistic regression model. \n",
    "\n",
    "I conclude that for this project, based on the parameters I tuned for, The Random Forest Model has proven to be the better suited model for classifying this particular Data Set."
   ]
  }
 ],
 "metadata": {
  "kernelspec": {
   "display_name": "Python 3 (ipykernel)",
   "language": "python",
   "name": "python3"
  },
  "language_info": {
   "codemirror_mode": {
    "name": "ipython",
    "version": 3
   },
   "file_extension": ".py",
   "mimetype": "text/x-python",
   "name": "python",
   "nbconvert_exporter": "python",
   "pygments_lexer": "ipython3",
   "version": "3.9.7"
  }
 },
 "nbformat": 4,
 "nbformat_minor": 5
}
